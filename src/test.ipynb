{
 "cells": [
  {
   "cell_type": "markdown",
   "id": "55bc86c0",
   "metadata": {},
   "source": [
    "导入相关模块。"
   ]
  },
  {
   "cell_type": "code",
   "execution_count": null,
   "id": "dda4c71b",
   "metadata": {},
   "outputs": [],
   "source": [
    "import cv2\n",
    "import matplotlib.pyplot as plt\n",
    "import numpy as np\n",
    "\n",
    "from beautify import enlarge_eyes, smooth_skin, squeeze_face, whiten_face\n",
    "from blend import blend_image, feather_mask\n",
    "from calibrate import undistort_image\n",
    "from detect_face import get_face_mask\n",
    "from preprocess import gaussian_filter, laplacian_sharpen, median_filter"
   ]
  },
  {
   "cell_type": "markdown",
   "id": "df04ec3b",
   "metadata": {},
   "source": [
    "读取内参矩阵和畸变系数。"
   ]
  },
  {
   "cell_type": "code",
   "execution_count": null,
   "id": "ab936247",
   "metadata": {},
   "outputs": [],
   "source": [
    "params = np.load(\"../src/calib_params.npz\")\n",
    "K = params[\"camera_matrix\"]\n",
    "d = params[\"dist_coeffs\"]\n",
    "print(f\"camera_matrix:\\n{K}\")\n",
    "print(f\"dist_coeffs:\\n{d}\")"
   ]
  },
  {
   "cell_type": "markdown",
   "id": "2cb244ed",
   "metadata": {
    "slideshow": {
     "slide_type": "slide"
    }
   },
   "source": [
    "读取原始图像。"
   ]
  },
  {
   "cell_type": "code",
   "execution_count": null,
   "id": "e5fd9633",
   "metadata": {},
   "outputs": [],
   "source": [
    "img = cv2.imread(\"../images/111.jpg\")\n",
    "plt.imshow(cv2.cvtColor(img, cv2.COLOR_BGR2RGB))\n",
    "plt.axis(\"off\")\n",
    "plt.show()"
   ]
  },
  {
   "cell_type": "markdown",
   "id": "095e5782",
   "metadata": {},
   "source": [
    "去畸变。"
   ]
  },
  {
   "cell_type": "code",
   "execution_count": null,
   "id": "b5a998df",
   "metadata": {},
   "outputs": [],
   "source": [
    "img1 = undistort_image(img, K, d)\n",
    "plt.imshow(cv2.cvtColor(img1, cv2.COLOR_BGR2RGB))\n",
    "plt.axis(\"off\")\n",
    "plt.show()"
   ]
  },
  {
   "cell_type": "markdown",
   "id": "e59fa917",
   "metadata": {},
   "source": [
    "预处理，中值滤波+高斯滤波。"
   ]
  },
  {
   "cell_type": "code",
   "execution_count": null,
   "id": "cae636ee",
   "metadata": {},
   "outputs": [],
   "source": [
    "img2 = median_filter(img1, k_size=5)\n",
    "plt.imshow(cv2.cvtColor(img2, cv2.COLOR_BGR2RGB))\n",
    "plt.axis(\"off\")\n",
    "plt.show()\n",
    "\n",
    "img3 = gaussian_filter(img2, k_size=5, sigma=1.0)\n",
    "plt.imshow(cv2.cvtColor(img3, cv2.COLOR_BGR2RGB))\n",
    "plt.axis(\"off\")\n",
    "plt.show()"
   ]
  },
  {
   "cell_type": "markdown",
   "id": "df66fde1",
   "metadata": {},
   "source": [
    "预处理，拉普拉斯锐化。"
   ]
  },
  {
   "cell_type": "code",
   "execution_count": null,
   "id": "da7dcf20",
   "metadata": {},
   "outputs": [],
   "source": [
    "img4 = laplacian_sharpen(img3, alpha=1.5)\n",
    "plt.imshow(cv2.cvtColor(img4, cv2.COLOR_BGR2RGB))\n",
    "plt.axis(\"off\")"
   ]
  },
  {
   "cell_type": "markdown",
   "id": "3f849ec8",
   "metadata": {},
   "source": [
    "人脸区域分割。"
   ]
  },
  {
   "cell_type": "code",
   "execution_count": null,
   "id": "01d67f27",
   "metadata": {},
   "outputs": [],
   "source": [
    "face_mask = get_face_mask(img4)\n",
    "plt.imshow(face_mask, cmap=\"gray\")\n",
    "plt.axis(\"off\")\n",
    "plt.show()"
   ]
  },
  {
   "cell_type": "markdown",
   "id": "60033641",
   "metadata": {},
   "source": [
    "美白。"
   ]
  },
  {
   "cell_type": "code",
   "execution_count": null,
   "id": "758bda07",
   "metadata": {},
   "outputs": [],
   "source": [
    "img5 = whiten_face(img4, face_mask, clip_limit=2.0, tile_grid_size=(8, 8))\n",
    "plt.imshow(cv2.cvtColor(img5, cv2.COLOR_BGR2RGB))\n",
    "plt.axis(\"off\")\n",
    "plt.show()"
   ]
  },
  {
   "cell_type": "markdown",
   "id": "f455c4f5",
   "metadata": {},
   "source": [
    "瘦脸。"
   ]
  },
  {
   "cell_type": "code",
   "execution_count": null,
   "id": "607fea88",
   "metadata": {},
   "outputs": [],
   "source": [
    "img6 = squeeze_face(img5, face_mask, gain=0.7)\n",
    "plt.imshow(cv2.cvtColor(img6, cv2.COLOR_BGR2RGB))\n",
    "plt.axis(\"off\")\n",
    "plt.show()"
   ]
  },
  {
   "cell_type": "markdown",
   "id": "af928cd0",
   "metadata": {},
   "source": [
    "大眼。"
   ]
  },
  {
   "cell_type": "code",
   "execution_count": null,
   "id": "400ccb0c",
   "metadata": {},
   "outputs": [],
   "source": [
    "img7 = enlarge_eyes(img6, face_mask, gain=1.5, edge_low=5, edge_high=150, k_size=5)\n",
    "plt.imshow(cv2.cvtColor(img7, cv2.COLOR_BGR2RGB))\n",
    "plt.axis(\"off\")\n",
    "plt.show()"
   ]
  },
  {
   "cell_type": "markdown",
   "id": "eac6d07f",
   "metadata": {},
   "source": [
    "磨皮。"
   ]
  },
  {
   "cell_type": "code",
   "execution_count": null,
   "id": "f0dfe40f",
   "metadata": {},
   "outputs": [],
   "source": [
    "img8 = smooth_skin(img7, face_mask, diameter=9, sigma_color=75, sigma_space=75)\n",
    "plt.imshow(cv2.cvtColor(img8, cv2.COLOR_BGR2RGB))\n",
    "plt.axis(\"off\")\n",
    "plt.show()"
   ]
  },
  {
   "cell_type": "markdown",
   "id": "b4b5276b",
   "metadata": {},
   "source": [
    "与原图像背景羽化融合。"
   ]
  },
  {
   "cell_type": "code",
   "execution_count": null,
   "id": "da715bea",
   "metadata": {},
   "outputs": [],
   "source": [
    "alpha = feather_mask(face_mask, radius=15)\n",
    "img9 = blend_image(img8, img, alpha)\n",
    "plt.imshow(cv2.cvtColor(img9, cv2.COLOR_BGR2RGB))\n",
    "plt.axis(\"off\")\n",
    "plt.show()"
   ]
  }
 ],
 "metadata": {
  "kernelspec": {
   "display_name": "venv",
   "language": "python",
   "name": "python3"
  },
  "language_info": {
   "codemirror_mode": {
    "name": "ipython",
    "version": 3
   },
   "file_extension": ".py",
   "mimetype": "text/x-python",
   "name": "python",
   "nbconvert_exporter": "python",
   "pygments_lexer": "ipython3",
   "version": "3.12.9"
  }
 },
 "nbformat": 4,
 "nbformat_minor": 5
}
